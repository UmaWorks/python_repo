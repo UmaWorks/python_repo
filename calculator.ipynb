{
 "cells": [
  {
   "cell_type": "code",
   "execution_count": 38,
   "metadata": {},
   "outputs": [],
   "source": [
    "import unittest\n",
    "import logging\n",
    "\n",
    "class General:\n",
    "    logging.basicConfig(filename='Logger.log',\n",
    "                        format=\"%(levelname)s %(asctime)s %(filename)s:%(lineno)s %(funcName)s() %(message)s\",\n",
    "                        level=logging.INFO)\n",
    "    Logger = logging.getLogger()\n",
    "\n",
    "    \n",
    "class Calculator:\n",
    "    def __init__(self):\n",
    "        self.result=0\n",
    "    \n",
    "    def add(self,a,b):\n",
    "        \"\"\"this function return addition of two numbers\"\"\"\n",
    "        try:\n",
    "            General.Logger.info(\"Add method is invoked with the inputs\")\n",
    "            self.result=a+b\n",
    "            return self.result\n",
    "        except Exception as e:\n",
    "            General.Logger.error(\"Error during addition occurred %s\",e)\n",
    "            return \"ERROR\"\n",
    "    \n",
    "    def divide(self,a,b):\n",
    "        \"\"\"this function returns division of two numbers\"\"\"\n",
    "        try:\n",
    "            General.Logger.info(\"divide method is invoked with the inputs\")\n",
    "            self.result=a/b\n",
    "            return self.result\n",
    "        except(ZeroDivisionError):\n",
    "            General.Logger.error(\"divide by zero error occurred\")\n",
    "            return \"ERROR\"\n",
    "        except Exception as e:\n",
    "            General.Logger.error(\"Error during division occurred:%s\",e)\n",
    "            return \"ERROR\"\n",
    "        \n",
    "            \n",
    "    def factorial(self,n):\n",
    "        \"\"\"this function returns factorial of a given number\"\"\"\n",
    "        try:\n",
    "            if n<-1:\n",
    "                raise Exception(\"factorial cant be calculated for negative numbers\")\n",
    "            if n==0 or n==1:\n",
    "                return 1\n",
    "            else:\n",
    "                return n*self.factorial(n-1)\n",
    "        except Exception as e:\n",
    "            General.Logger.error(\"exception in factorial fuction: %s\",e)"
   ]
  },
  {
   "cell_type": "code",
   "execution_count": 39,
   "metadata": {},
   "outputs": [
    {
     "name": "stderr",
     "output_type": "stream",
     "text": [
      ".....\n",
      "----------------------------------------------------------------------\n",
      "Ran 5 tests in 0.011s\n",
      "\n",
      "OK\n"
     ]
    }
   ],
   "source": [
    "class AdditionTestSuite(unittest.TestCase):\n",
    "    def setUp(self):\n",
    "        self.calculator = Calculator()\n",
    "#     def tearDown(self):\n",
    "#         \"\"\" Executed after every test case \"\"\"\n",
    "#         print(\"\\ntearDown executing after the test case. Result:\")\n",
    "    def test_addition_two_integers(self):\n",
    "        result = self.calculator.add(5,6)\n",
    "        self.assertEqual(result, 11)\n",
    "        \n",
    "    def test_addition_integer_string(self):\n",
    "        result = self.calculator.add(5, \"6\")\n",
    "        self.assertEqual(result,\"ERROR\")\n",
    "        \n",
    "    def test_division(self):\n",
    "        result = self.calculator.divide(10,5)\n",
    "        self.assertEqual(result,2)\n",
    "        \n",
    "    def test_division_by_zero(self):\n",
    "        result = self.calculator.divide(10,0)\n",
    "        self.assertEqual(result,\"ERROR\")\n",
    "        \n",
    "    def test_factorial(self):\n",
    "        result = self.calculator.factorial(5)\n",
    "        self.assertEqual(result,120)\n",
    "        \n",
    "   \n",
    "if __name__ == \"__main__\":\n",
    "    unittest.main(argv=['first-arg-is-ignored'], exit=False)"
   ]
  },
  {
   "cell_type": "code",
   "execution_count": 40,
   "metadata": {},
   "outputs": [
    {
     "name": "stderr",
     "output_type": "stream",
     "text": [
      "No traceback available to show.\n"
     ]
    }
   ],
   "source": [
    "%tb"
   ]
  },
  {
   "cell_type": "code",
   "execution_count": 41,
   "metadata": {},
   "outputs": [
    {
     "data": {
      "text/plain": [
       "11"
      ]
     },
     "execution_count": 41,
     "metadata": {},
     "output_type": "execute_result"
    }
   ],
   "source": [
    "\n",
    "a=5\n",
    "b=2\n",
    "cal=Calculator()\n",
    "result=cal.add(5,6)\n",
    "result"
   ]
  },
  {
   "cell_type": "code",
   "execution_count": 42,
   "metadata": {},
   "outputs": [
    {
     "data": {
      "text/plain": [
       "'ERROR'"
      ]
     },
     "execution_count": 42,
     "metadata": {},
     "output_type": "execute_result"
    }
   ],
   "source": [
    "cal.divide(10,0)"
   ]
  },
  {
   "cell_type": "code",
   "execution_count": 43,
   "metadata": {},
   "outputs": [
    {
     "data": {
      "text/plain": [
       "120"
      ]
     },
     "execution_count": 43,
     "metadata": {},
     "output_type": "execute_result"
    }
   ],
   "source": [
    "cal.factorial(5)"
   ]
  },
  {
   "cell_type": "code",
   "execution_count": 15,
   "metadata": {},
   "outputs": [],
   "source": [
    "\n"
   ]
  },
  {
   "cell_type": "code",
   "execution_count": null,
   "metadata": {},
   "outputs": [],
   "source": []
  }
 ],
 "metadata": {
  "kernelspec": {
   "display_name": "CV-Projects",
   "language": "python",
   "name": "cv-projects"
  },
  "language_info": {
   "codemirror_mode": {
    "name": "ipython",
    "version": 3
   },
   "file_extension": ".py",
   "mimetype": "text/x-python",
   "name": "python",
   "nbconvert_exporter": "python",
   "pygments_lexer": "ipython3",
   "version": "3.8.3"
  }
 },
 "nbformat": 4,
 "nbformat_minor": 2
}
